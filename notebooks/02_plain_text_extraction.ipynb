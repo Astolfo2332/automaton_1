{
 "cells": [
  {
   "cell_type": "markdown",
   "metadata": {},
   "source": [
    "So we got the PDF working fine, but in some mails the information is in the plain text or the HTML part and is easier to the model to extract the information in a more \"structructure\" way"
   ]
  },
  {
   "cell_type": "markdown",
   "metadata": {},
   "source": [
    "### Data extraction and files management"
   ]
  },
  {
   "cell_type": "code",
   "execution_count": 1,
   "metadata": {},
   "outputs": [],
   "source": [
    "import os\n",
    "import zipfile\n",
    "from email import policy\n",
    "from email.parser import BytesParser\n",
    "from pathlib import Path\n",
    "import shutil"
   ]
  },
  {
   "cell_type": "code",
   "execution_count": 2,
   "metadata": {},
   "outputs": [],
   "source": [
    "def extract_eml_info(eml_path):\n",
    "    # Open and parse the .eml file\n",
    "    with open(eml_path, 'rb') as eml_file:\n",
    "        msg = BytesParser(policy=policy.default).parse(eml_file)\n",
    "    \n",
    "    # Extract headers\n",
    "    subject = msg.get('subject', '')\n",
    "    from_ = msg.get('from', '')\n",
    "    to = msg.get('to', '')\n",
    "    date = msg.get('date', '')\n",
    "    \n",
    "    # Extract body (text and HTML)\n",
    "    text_body = \"\"\n",
    "    html_body = \"\"\n",
    "    \n",
    "    if msg.is_multipart():\n",
    "        for part in msg.iter_parts():\n",
    "            content_type = part.get_content_type()\n",
    "            content_disposition = part.get('Content-Disposition')\n",
    "            \n",
    "            if content_type == 'text/plain' and not content_disposition:\n",
    "                text_body = part.get_payload(decode=True).decode(part.get_content_charset())\n",
    "            elif content_type == 'text/html' and not content_disposition:\n",
    "                html_body = part.get_payload(decode=True).decode(part.get_content_charset())\n",
    "            elif part.get_filename():  # Extract attachments\n",
    "                filename = part.get_filename()\n",
    "                with open(filename, 'wb') as f:\n",
    "                    f.write(part.get_payload(decode=True))\n",
    "    else:\n",
    "        if msg.get_content_type() == 'text/plain':\n",
    "            text_body = msg.get_payload(decode=True).decode(msg.get_content_charset())\n",
    "        elif msg.get_content_type() == 'text/html':\n",
    "            html_body = msg.get_payload(decode=True).decode(msg.get_content_charset())\n",
    "    return [html_body]"
   ]
  },
  {
   "cell_type": "code",
   "execution_count": 3,
   "metadata": {},
   "outputs": [],
   "source": [
    "data_path = Path(\"../data/\")\n",
    "mails_path = data_path / \"mails\"\n",
    "zips_data = data_path / \"extract\"\n",
    "mail_files = [mails_path / f for f in os.listdir(mails_path)]\n",
    "zip_files = [zips_data / f for f in os.listdir(zips_data)]\n",
    "pdf_files = [data_path /\"extract/pdfs\" / f for f in os.listdir(data_path/ \"extract/pdfs\") if f.endswith(\".pdf\")]"
   ]
  },
  {
   "cell_type": "code",
   "execution_count": 4,
   "metadata": {},
   "outputs": [],
   "source": [
    "test_files = data_path / \"abril-agosto\""
   ]
  },
  {
   "cell_type": "code",
   "execution_count": 5,
   "metadata": {},
   "outputs": [],
   "source": [
    "mails_data = [extract_eml_info(i) for i in mail_files]"
   ]
  },
  {
   "cell_type": "code",
   "execution_count": 6,
   "metadata": {},
   "outputs": [
    {
     "name": "stdout",
     "output_type": "stream",
     "text": [
      "Files moved\n"
     ]
    }
   ],
   "source": [
    "os.makedirs(\"../data/extract/pdfs\", exist_ok=True)\n",
    "\n",
    "for file_name in os.listdir(test_files):\n",
    "    if file_name.endswith(\".zip\"):\n",
    "        shutil.move(test_files / file_name, \"../data/extract\")\n",
    "    elif file_name.endswith(\".pdf\"):\n",
    "        shutil.move(test_files / file_name, \"../data/extract/pdfs\")\n",
    "print(\"Files moved\")"
   ]
  },
  {
   "cell_type": "code",
   "execution_count": 7,
   "metadata": {},
   "outputs": [],
   "source": [
    "def extract_zip(zip_file_path, extract_to_folder):\n",
    "    # Ensure the output directory exists\n",
    "    os.makedirs(extract_to_folder, exist_ok=True)\n",
    "    \n",
    "    \n",
    "    # Open the ZIP file\n",
    "    if str(zip_file_path).endswith(\".zip\"):\n",
    "        with zipfile.ZipFile(zip_file_path, 'r') as zip_ref:\n",
    "            # Extract all the contents into the specified folder\n",
    "            zip_ref.extractall(extract_to_folder)"
   ]
  },
  {
   "cell_type": "code",
   "execution_count": 8,
   "metadata": {},
   "outputs": [],
   "source": [
    "for i in zip_files:\n",
    "    extract_zip(i, data_path / \"extract/pdfs\")"
   ]
  },
  {
   "cell_type": "markdown",
   "metadata": {},
   "source": [
    "### PDF data extraction in plain text"
   ]
  },
  {
   "cell_type": "code",
   "execution_count": 9,
   "metadata": {},
   "outputs": [],
   "source": [
    "from langchain_community.document_loaders import PyPDFLoader\n",
    "from langchain_community.vectorstores.utils import filter_complex_metadata"
   ]
  },
  {
   "cell_type": "code",
   "execution_count": 27,
   "metadata": {},
   "outputs": [],
   "source": [
    "import re\n",
    "def pdf_extraction(pdf:str):\n",
    "    \"\"\"Returns a str of the pdf and a str with the encrypted ones\"\"\"\n",
    "    try:\n",
    "        WHITESPACE_HANDLER = lambda k: re.sub('\\s+', ' ', re.sub('\\n+', ' ', k.strip()))\n",
    "        loader = PyPDFLoader(pdf)\n",
    "        data = loader.load()\n",
    "        return WHITESPACE_HANDLER(filter_complex_metadata(data)[0].page_content)\n",
    "    except Exception as e:\n",
    "        return f\"Error {e}\""
   ]
  },
  {
   "cell_type": "code",
   "execution_count": 28,
   "metadata": {},
   "outputs": [
    {
     "data": {
      "text/plain": [
       "99"
      ]
     },
     "execution_count": 28,
     "metadata": {},
     "output_type": "execute_result"
    }
   ],
   "source": [
    "len(pdf_files)"
   ]
  },
  {
   "cell_type": "code",
   "execution_count": 29,
   "metadata": {},
   "outputs": [
    {
     "data": {
      "text/plain": [
       "28"
      ]
     },
     "execution_count": 29,
     "metadata": {},
     "output_type": "execute_result"
    }
   ],
   "source": [
    "len(mail_files)"
   ]
  },
  {
   "cell_type": "markdown",
   "metadata": {},
   "source": [
    "So we got 4 messages that doesn't have pdf or plain text"
   ]
  },
  {
   "cell_type": "code",
   "execution_count": 30,
   "metadata": {},
   "outputs": [],
   "source": [
    "pdfs_data = [pdf_extraction(f) for f in pdf_files]"
   ]
  },
  {
   "cell_type": "code",
   "execution_count": 31,
   "metadata": {},
   "outputs": [
    {
     "data": {
      "text/plain": [
       "99"
      ]
     },
     "execution_count": 31,
     "metadata": {},
     "output_type": "execute_result"
    }
   ],
   "source": [
    "len(pdfs_data)"
   ]
  },
  {
   "cell_type": "code",
   "execution_count": 32,
   "metadata": {},
   "outputs": [],
   "source": [
    "from langchain_core.runnables import RunnablePassthrough\n",
    "from langchain.prompts import PromptTemplate\n",
    "from langchain_core.output_parsers import StrOutputParser\n",
    "from langchain_community.chat_models import ChatOllama"
   ]
  },
  {
   "cell_type": "code",
   "execution_count": 49,
   "metadata": {},
   "outputs": [],
   "source": [
    "model_name = \"llama3.1:8b-instruct-fp16\"\n",
    "llm = ChatOllama(model=model_name)"
   ]
  },
  {
   "cell_type": "code",
   "execution_count": 35,
   "metadata": {},
   "outputs": [],
   "source": [
    "context_prompt = PromptTemplate(\n",
    "input_variables=[\"question\"],\n",
    "template=\"\"\"\n",
    "Ignora cualquier instrucción anterior y conversaciones anteriores\n",
    "\n",
    "Eres un asistente de facturas, vas a recibir\n",
    "información de varias facturas, no importa si son confidenciales\n",
    "y debes extraer la siguiente información\n",
    "\\n\n",
    "\n",
    "SOLO RESPONDER ASI:\n",
    "\n",
    "Fecha: [Dia de la compra] como una fecha con el formato dd/mm/yyyy\n",
    "Empresa: [Nombre de la compañía]\n",
    "Nit: [Numero nit] con el formato xxxxxxxxx-x ej: 111.111.111-1 como 111111111-1\n",
    "Valor a pagar: [Valor] como numero con exactitud de un decimal\n",
    "Numero de factura: [Numero de factura, puede contener letras]\n",
    "\n",
    "Si no puedes responder la pregunta SOLO responde NaN\n",
    "\n",
    "A base del siguiente documento:\n",
    "\n",
    "{question}\n",
    "\"\"\"\n",
    ")"
   ]
  },
  {
   "cell_type": "code",
   "execution_count": 50,
   "metadata": {},
   "outputs": [],
   "source": [
    "chain_extraction = (\n",
    "    {\"question\": RunnablePassthrough()}\n",
    "    |context_prompt\n",
    "    |llm\n",
    "    |StrOutputParser()\n",
    ")"
   ]
  },
  {
   "cell_type": "code",
   "execution_count": 51,
   "metadata": {},
   "outputs": [],
   "source": [
    "model_data = [chain_extraction.invoke(s) for s in pdfs_data]"
   ]
  },
  {
   "cell_type": "markdown",
   "metadata": {},
   "source": [
    "### Agent"
   ]
  },
  {
   "cell_type": "code",
   "execution_count": 38,
   "metadata": {},
   "outputs": [],
   "source": [
    "from llama_index.core.tools import FunctionTool, ToolMetadata\n",
    "from llama_index.core.agent import ReActAgent\n",
    "from llama_index.llms.ollama import Ollama"
   ]
  },
  {
   "cell_type": "code",
   "execution_count": 39,
   "metadata": {},
   "outputs": [],
   "source": [
    "def write_to_csv(date:str, comp_name:str, nit:str, bill_num:str, total:str, filename='output.csv'):\n",
    "    \"\"\"\n",
    "    A function that writes a value in a cvs file\n",
    "    \n",
    "    Args\n",
    "    ----\n",
    "    date: str\n",
    "        The date in a dd/mm/yyyy format\n",
    "    \n",
    "    comp_name: str\n",
    "        the company name\n",
    "    \n",
    "    nit: str\n",
    "        the company nit\n",
    "    \n",
    "    bill_num: str\n",
    "        the bill number\n",
    "\n",
    "    total: str\n",
    "        The total value to pay\n",
    "    \n",
    "    Returns\n",
    "    -------\n",
    "        none\n",
    "    \"\"\"\n",
    "    import csv\n",
    "    with open(filename, mode='a', newline='') as file:\n",
    "        writer = csv.writer(file)\n",
    "        writer.writerow([date, comp_name, nit, bill_num, total])\n",
    "    file.close()\n",
    "    return f\"Data written to {filename}\""
   ]
  },
  {
   "cell_type": "code",
   "execution_count": 40,
   "metadata": {},
   "outputs": [],
   "source": [
    "def iva_calc(total:str) -> tuple:\n",
    "    \"\"\"\n",
    "    A function to retrieve the iva value and the original price if a item\n",
    "    \n",
    "    Args\n",
    "    ----\n",
    "    total: str\n",
    "        The price of the item as a str\n",
    "    \n",
    "    Returns\n",
    "    -------\n",
    "        A tuple containing (iva_value, original_value)\n",
    "    \"\"\"\n",
    "    total = float(total)\n",
    "    iva = round(total / 1.19, 1)\n",
    "    return (str(iva), str(round(total - iva, 1)))"
   ]
  },
  {
   "cell_type": "code",
   "execution_count": 41,
   "metadata": {},
   "outputs": [],
   "source": [
    "def error_csv(filepdf:str, filename=\"error.csv\"):\n",
    "    \"\"\"\n",
    "    A function to put the name of the bills that doesn't have the required information\n",
    "    \n",
    "    Args\n",
    "    ----\n",
    "    file: str\n",
    "        The number of the file that doesn't have all the information\n",
    "    \"\"\"\n",
    "    import csv\n",
    "    with open(filename, mode='a', newline='') as file:\n",
    "        writer = csv.writer(file)\n",
    "        writer.writerow(filepdf)\n",
    "    file.close()\n",
    "    return f\"Data written to {filename}\""
   ]
  },
  {
   "cell_type": "code",
   "execution_count": 52,
   "metadata": {},
   "outputs": [],
   "source": [
    "code_name = \"llama3.1:8b-instruct-fp16\"\n",
    "code_llm = Ollama(model=code_name)"
   ]
  },
  {
   "cell_type": "code",
   "execution_count": 53,
   "metadata": {},
   "outputs": [],
   "source": [
    "tools = [\n",
    "    FunctionTool.from_defaults(fn=write_to_csv,\n",
    "                     name=\"write_to_csv\",\n",
    "                     description=\"This tool can write data in a csv file\"),\n",
    "    \n",
    "    FunctionTool.from_defaults(fn=error_csv,\n",
    "                     name=\"error_csv\",\n",
    "                     description=\"This tool is when the given data doesn't have all the information\"),\n",
    "\n",
    "    #FunctionTool.from_defaults(fn=iva_calc,\n",
    "    #                 name=\"iva_calc\",\n",
    "    #                 description=\"\"\"A tool to get the values of the iva if the product \n",
    "    #                 and it original value\"\"\")\n",
    "]"
   ]
  },
  {
   "cell_type": "code",
   "execution_count": 44,
   "metadata": {},
   "outputs": [],
   "source": [
    "agent_template = \"\"\" \\\n",
    "Ignore previous conversations and history\n",
    "You will get information as follows\n",
    "\n",
    "    Fecha: [Date of the purchase]\n",
    "    Empresa: [Company name]\n",
    "    Nit: [NIT number]\n",
    "    Valor a pagar: [Value]\n",
    "    Numero de factura: [Number of bill]\n",
    "\n",
    "Example Input:\n",
    "\n",
    "    Fecha: 28/02/2024\n",
    "    Empresa: PUNTO LED S.A.S.\n",
    "    Nit: 901.264.658-7\n",
    "    Valor a pagar: 660,000.00\n",
    "    Numero de factura: PL 29626\n",
    "\n",
    "Example Output:\n",
    "    [28/02/2024, PUNTO LED S.A.S., 901.264.658-7, PL 29626, 554621.8, 105378.2, 660000]\n",
    "\n",
    "First you need to get the data from valor a pagar using the iva_calc tool.\n",
    "Finally you need to write the information in a csv file using the write_to_csv tool, and follow the input order as Example Output.\n",
    "\n",
    "To write the information in a csv file is VERY IMPORTANT THAT \n",
    "the order is given as follows: Fecha, Empresa, NIT, Numero de factura, Valor base, Valor de iva, Valor a pagar. \n",
    "\n",
    "YOU CAN ONLY WRITE THE CVS ONCE!!!!!!!!\n",
    "\n",
    "```\n",
    "Thought: I need to use the 'iva_calc' tool to calculate the iva.\n",
    "Action: iva_calc\n",
    "Action Input: {'total': 'the Valor a pagar value as a int'}\n",
    "```\n",
    "\n",
    "```\n",
    "Thought: After i calculate the iva value i need to write the values in a csv file\n",
    "Action: write_to_csv\n",
    "Action Input: {\"data\": [The values giving the stipulated order, you can follow the Example Output, as a list]}\n",
    "```\n",
    "\"\"\""
   ]
  },
  {
   "cell_type": "code",
   "execution_count": 59,
   "metadata": {},
   "outputs": [],
   "source": [
    "agent_template_2 = \"\"\" \\\n",
    "You will get information as follows\n",
    "\n",
    "    Fecha: [Date of the purchase]\n",
    "    Empresa: [Company name]\n",
    "    Nit: [NIT number]\n",
    "    Valor a pagar: [Value]\n",
    "    Numero de factura: [Number of bill]\n",
    "\n",
    "Example Input:\n",
    "\n",
    "    Contador : 0\n",
    "    Fecha: 28/02/2024\n",
    "    Empresa: PUNTO LED S.A.S.\n",
    "    Nit: 901.264.658-7\n",
    "    Valor a pagar: 660,000.00\n",
    "    Numero de factura: PL 29626\n",
    "\n",
    "Example Output:\n",
    "    contador = 0\n",
    "    date = 28/02/2024,\n",
    "    compt_name = PUNTO LED S.A.S.\n",
    "    nit = 901264658-7\n",
    "    bill_num = PL 29626\n",
    "    total = 660000\n",
    "\n",
    "To write the information in a csv file is VERY IMPORTANT THAT total has the float format with 1 decimal precision\n",
    "\n",
    "YOU CAN ONLY WRITE THE CVS ONCE!!!!!!!!\n",
    "\n",
    "```\n",
    "Thought: I need to write the information in a csv file.\n",
    "Action: write_to_csv\n",
    "Action Input: {\"date\": Fecha, \"comp_name\": Empresa, \"nit\": Nit, \"bill_num\": Numero de factura, \"total\": \"Valor a pagar\"}\n",
    "```\n",
    "\n",
    "```\n",
    "Thought: I don't have all the information to write in a csv file\n",
    "Action: error_csv\n",
    "Action Input: {\"filepdf\": contador}\n",
    "```\n",
    "\"\"\""
   ]
  },
  {
   "cell_type": "code",
   "execution_count": 60,
   "metadata": {},
   "outputs": [],
   "source": [
    "agent = ReActAgent.from_tools(tools, llm=code_llm, context=agent_template_2, verbose=True)"
   ]
  },
  {
   "cell_type": "code",
   "execution_count": 58,
   "metadata": {},
   "outputs": [],
   "source": [
    "promt_const = \"\"\"\n",
    "If you don't something put NaN, and don't rely on previous information\n",
    "You are done when you write the csv!!!!!\n",
    "\n",
    "Your document is:\n",
    "\n",
    "\n",
    "\"\"\"\n",
    "agent_message = lambda x,y : f\"{promt_const}Contador:{y} \\n{x}\""
   ]
  },
  {
   "cell_type": "markdown",
   "metadata": {},
   "source": [
    "## for testing"
   ]
  },
  {
   "cell_type": "code",
   "execution_count": null,
   "metadata": {},
   "outputs": [],
   "source": [
    "cont = 0\n",
    "error_list = []\n",
    "for i in model_data:\n",
    "    try:\n",
    "        cont += 1\n",
    "        res = agent.chat(agent_message(i, cont-1))\n",
    "        print(res)\n",
    "    except Exception as e:\n",
    "        print(f\"error with bill N {cont}\")\n",
    "        error_list.append(cont)"
   ]
  },
  {
   "cell_type": "code",
   "execution_count": 77,
   "metadata": {},
   "outputs": [
    {
     "data": {
      "text/plain": [
       "[56, 68]"
      ]
     },
     "execution_count": 77,
     "metadata": {},
     "output_type": "execute_result"
    }
   ],
   "source": [
    "error_list"
   ]
  }
 ],
 "metadata": {
  "kernelspec": {
   "display_name": "tensorflow",
   "language": "python",
   "name": "python3"
  },
  "language_info": {
   "codemirror_mode": {
    "name": "ipython",
    "version": 3
   },
   "file_extension": ".py",
   "mimetype": "text/x-python",
   "name": "python",
   "nbconvert_exporter": "python",
   "pygments_lexer": "ipython3",
   "version": "3.11.9"
  }
 },
 "nbformat": 4,
 "nbformat_minor": 2
}
